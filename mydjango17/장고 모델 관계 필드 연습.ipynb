{
 "cells": [
  {
   "cell_type": "code",
   "execution_count": 1,
   "id": "ae5e8695",
   "metadata": {},
   "outputs": [],
   "source": [
    "import os\n",
    "\n",
    "os.environ[\"DJANGO_SETTINGS_MODULE\"] = \"mydjango17.settings\"\n",
    "os.environ[\"DJANGO_ALLOW_ASYNC_UNSAFE\"] = \"true\"\n",
    "\n",
    "import django\n",
    "django.setup()"
   ]
  },
  {
   "cell_type": "code",
   "execution_count": 2,
   "id": "5ef9aa7b",
   "metadata": {},
   "outputs": [],
   "source": [
    "from diary.models import Post, Comment, Tag"
   ]
  },
  {
   "cell_type": "code",
   "execution_count": null,
   "id": "75c84c03",
   "metadata": {},
   "outputs": [],
   "source": []
  },
  {
   "cell_type": "code",
   "execution_count": 3,
   "id": "232bc3c3",
   "metadata": {},
   "outputs": [
    {
     "name": "stderr",
     "output_type": "stream",
     "text": [
      "(0.015) SELECT \"diary_post\".\"id\", \"diary_post\".\"created_at\", \"diary_post\".\"updated_at\", \"diary_post\".\"author_name\", \"diary_post\".\"title\", \"diary_post\".\"content\", \"diary_post\".\"photo\" FROM \"diary_post\" LIMIT 21; args=()\n"
     ]
    },
    {
     "data": {
      "text/plain": [
       "<QuerySet [<Post: 첫 제목>, <Post: 두번째 포스팅>, <Post: 세번째 포스팅 입니다.>]>"
      ]
     },
     "execution_count": 3,
     "metadata": {},
     "output_type": "execute_result"
    }
   ],
   "source": [
    "Post.objects.all()  # 전체 포스팅 목록"
   ]
  },
  {
   "cell_type": "code",
   "execution_count": 4,
   "id": "0d500571",
   "metadata": {},
   "outputs": [
    {
     "name": "stderr",
     "output_type": "stream",
     "text": [
      "(0.000) SELECT \"diary_comment\".\"id\", \"diary_comment\".\"created_at\", \"diary_comment\".\"updated_at\", \"diary_comment\".\"post_id\", \"diary_comment\".\"author_name\", \"diary_comment\".\"message\" FROM \"diary_comment\" LIMIT 21; args=()\n"
     ]
    },
    {
     "data": {
      "text/plain": [
       "<QuerySet [<Comment: Comment object (1)>, <Comment: Comment object (2)>]>"
      ]
     },
     "execution_count": 4,
     "metadata": {},
     "output_type": "execute_result"
    }
   ],
   "source": [
    "Comment.objects.all()  # 전체 댓글 목록"
   ]
  },
  {
   "cell_type": "code",
   "execution_count": 5,
   "id": "1d7bbfc7",
   "metadata": {},
   "outputs": [
    {
     "name": "stderr",
     "output_type": "stream",
     "text": [
      "(0.000) SELECT \"diary_tag\".\"id\", \"diary_tag\".\"created_at\", \"diary_tag\".\"updated_at\", \"diary_tag\".\"name\" FROM \"diary_tag\" LIMIT 21; args=()\n"
     ]
    },
    {
     "data": {
      "text/plain": [
       "<QuerySet [<Tag: 태그1>, <Tag: 태그2>, <Tag: 태그3>]>"
      ]
     },
     "execution_count": 5,
     "metadata": {},
     "output_type": "execute_result"
    }
   ],
   "source": [
    "Tag.objects.all()  # 전체 태그 목록"
   ]
  },
  {
   "cell_type": "code",
   "execution_count": null,
   "id": "84ce9ac0",
   "metadata": {},
   "outputs": [],
   "source": []
  },
  {
   "cell_type": "code",
   "execution_count": 6,
   "id": "8454493f",
   "metadata": {},
   "outputs": [
    {
     "name": "stderr",
     "output_type": "stream",
     "text": [
      "(0.000) SELECT \"diary_post\".\"id\", \"diary_post\".\"created_at\", \"diary_post\".\"updated_at\", \"diary_post\".\"author_name\", \"diary_post\".\"title\", \"diary_post\".\"content\", \"diary_post\".\"photo\" FROM \"diary_post\" WHERE \"diary_post\".\"id\" = 1 LIMIT 21; args=(1,)\n"
     ]
    },
    {
     "data": {
      "text/plain": [
       "<Post: 첫 제목>"
      ]
     },
     "execution_count": 6,
     "metadata": {},
     "output_type": "execute_result"
    }
   ],
   "source": [
    "post = Post.objects.get(pk=1)  # 1번 포스팅 획득\n",
    "post"
   ]
  },
  {
   "cell_type": "code",
   "execution_count": 7,
   "id": "59632b9b",
   "metadata": {},
   "outputs": [
    {
     "name": "stderr",
     "output_type": "stream",
     "text": [
      "(0.000) SELECT COUNT(*) AS \"__count\" FROM \"diary_comment\"; args=()\n"
     ]
    },
    {
     "data": {
      "text/plain": [
       "2"
      ]
     },
     "execution_count": 7,
     "metadata": {},
     "output_type": "execute_result"
    }
   ],
   "source": [
    "qs = Comment.objects.all()\n",
    "qs.count()"
   ]
  },
  {
   "cell_type": "code",
   "execution_count": 8,
   "id": "fe1cfaa9",
   "metadata": {},
   "outputs": [
    {
     "name": "stderr",
     "output_type": "stream",
     "text": [
      "(0.000) SELECT COUNT(*) AS \"__count\" FROM \"diary_comment\" WHERE \"diary_comment\".\"post_id\" = 1; args=(1,)\n"
     ]
    },
    {
     "data": {
      "text/plain": [
       "0"
      ]
     },
     "execution_count": 8,
     "metadata": {},
     "output_type": "execute_result"
    }
   ],
   "source": [
    "qs = Comment.objects.all()\n",
    "qs = qs.filter(post=post)\n",
    "qs.count()"
   ]
  },
  {
   "cell_type": "code",
   "execution_count": null,
   "id": "9174f3a9",
   "metadata": {},
   "outputs": [],
   "source": []
  },
  {
   "cell_type": "code",
   "execution_count": 9,
   "id": "e4cb9024",
   "metadata": {},
   "outputs": [
    {
     "name": "stderr",
     "output_type": "stream",
     "text": [
      "(0.016) SELECT \"diary_comment\".\"id\", \"diary_comment\".\"created_at\", \"diary_comment\".\"updated_at\", \"diary_comment\".\"post_id\", \"diary_comment\".\"author_name\", \"diary_comment\".\"message\" FROM \"diary_comment\" WHERE \"diary_comment\".\"id\" = 1 LIMIT 21; args=(1,)\n"
     ]
    }
   ],
   "source": [
    "comment = Comment.objects.get(pk=1)"
   ]
  },
  {
   "cell_type": "code",
   "execution_count": 10,
   "id": "d7ef31c0",
   "metadata": {},
   "outputs": [
    {
     "name": "stderr",
     "output_type": "stream",
     "text": [
      "(0.000) SELECT \"diary_post\".\"id\", \"diary_post\".\"created_at\", \"diary_post\".\"updated_at\", \"diary_post\".\"author_name\", \"diary_post\".\"title\", \"diary_post\".\"content\", \"diary_post\".\"photo\" FROM \"diary_post\" WHERE \"diary_post\".\"id\" = 2 LIMIT 21; args=(2,)\n"
     ]
    },
    {
     "data": {
      "text/plain": [
       "<Post: 두번째 포스팅>"
      ]
     },
     "execution_count": 10,
     "metadata": {},
     "output_type": "execute_result"
    }
   ],
   "source": [
    "comment.post"
   ]
  },
  {
   "cell_type": "code",
   "execution_count": 11,
   "id": "6553fbc9",
   "metadata": {},
   "outputs": [
    {
     "name": "stderr",
     "output_type": "stream",
     "text": [
      "(0.000) SELECT \"diary_post\".\"id\", \"diary_post\".\"created_at\", \"diary_post\".\"updated_at\", \"diary_post\".\"author_name\", \"diary_post\".\"title\", \"diary_post\".\"content\", \"diary_post\".\"photo\" FROM \"diary_post\" WHERE \"diary_post\".\"id\" = 2 LIMIT 21; args=(2,)\n"
     ]
    },
    {
     "data": {
      "text/plain": [
       "<Post: 두번째 포스팅>"
      ]
     },
     "execution_count": 11,
     "metadata": {},
     "output_type": "execute_result"
    }
   ],
   "source": [
    "Post.objects.get(pk=2)"
   ]
  },
  {
   "cell_type": "code",
   "execution_count": null,
   "id": "aaa39704",
   "metadata": {},
   "outputs": [],
   "source": []
  },
  {
   "cell_type": "code",
   "execution_count": 13,
   "id": "d6f2eb8f",
   "metadata": {},
   "outputs": [
    {
     "name": "stderr",
     "output_type": "stream",
     "text": [
      "(0.000) SELECT \"diary_comment\".\"id\", \"diary_comment\".\"created_at\", \"diary_comment\".\"updated_at\", \"diary_comment\".\"post_id\", \"diary_comment\".\"author_name\", \"diary_comment\".\"message\" FROM \"diary_comment\" WHERE \"diary_comment\".\"post_id\" = 1 LIMIT 21; args=(1,)\n"
     ]
    },
    {
     "data": {
      "text/plain": [
       "<QuerySet []>"
      ]
     },
     "execution_count": 13,
     "metadata": {},
     "output_type": "execute_result"
    }
   ],
   "source": [
    "comment_list =Comment.objects.all().filter(post=post)\n",
    "comment_list"
   ]
  },
  {
   "cell_type": "code",
   "execution_count": 14,
   "id": "6c589000",
   "metadata": {},
   "outputs": [
    {
     "name": "stderr",
     "output_type": "stream",
     "text": [
      "(0.000) SELECT \"diary_comment\".\"id\", \"diary_comment\".\"created_at\", \"diary_comment\".\"updated_at\", \"diary_comment\".\"post_id\", \"diary_comment\".\"author_name\", \"diary_comment\".\"message\" FROM \"diary_comment\" WHERE \"diary_comment\".\"post_id\" = 1 LIMIT 21; args=(1,)\n"
     ]
    },
    {
     "data": {
      "text/plain": [
       "<QuerySet []>"
      ]
     },
     "execution_count": 14,
     "metadata": {},
     "output_type": "execute_result"
    }
   ],
   "source": [
    "post.comment_set.all()"
   ]
  },
  {
   "cell_type": "code",
   "execution_count": null,
   "id": "a37b7ace",
   "metadata": {},
   "outputs": [],
   "source": []
  },
  {
   "cell_type": "code",
   "execution_count": 15,
   "id": "09383f85",
   "metadata": {},
   "outputs": [
    {
     "name": "stderr",
     "output_type": "stream",
     "text": [
      "(0.000) SELECT \"diary_tag\".\"id\", \"diary_tag\".\"created_at\", \"diary_tag\".\"updated_at\", \"diary_tag\".\"name\" FROM \"diary_tag\" INNER JOIN \"diary_post_tag_set\" ON (\"diary_tag\".\"id\" = \"diary_post_tag_set\".\"tag_id\") WHERE \"diary_post_tag_set\".\"post_id\" = 1 LIMIT 21; args=(1,)\n"
     ]
    },
    {
     "data": {
      "text/plain": [
       "<QuerySet [<Tag: 태그1>, <Tag: 태그2>]>"
      ]
     },
     "execution_count": 15,
     "metadata": {},
     "output_type": "execute_result"
    }
   ],
   "source": [
    "post.tag_set.all()"
   ]
  },
  {
   "cell_type": "code",
   "execution_count": null,
   "id": "41c64145",
   "metadata": {},
   "outputs": [],
   "source": []
  },
  {
   "cell_type": "code",
   "execution_count": 18,
   "id": "cf08c9cc",
   "metadata": {},
   "outputs": [],
   "source": [
    "qs = Post.objects.all()\n",
    "qs = qs.filter(tag_set__name=\"태그2\")"
   ]
  },
  {
   "cell_type": "code",
   "execution_count": null,
   "id": "97d3658a",
   "metadata": {},
   "outputs": [],
   "source": []
  },
  {
   "cell_type": "code",
   "execution_count": null,
   "id": "61d258fb",
   "metadata": {},
   "outputs": [],
   "source": []
  },
  {
   "cell_type": "code",
   "execution_count": null,
   "id": "59aa4e3b",
   "metadata": {},
   "outputs": [],
   "source": []
  }
 ],
 "metadata": {
  "kernelspec": {
   "display_name": "Python 3 (ipykernel)",
   "language": "python",
   "name": "python3"
  },
  "language_info": {
   "codemirror_mode": {
    "name": "ipython",
    "version": 3
   },
   "file_extension": ".py",
   "mimetype": "text/x-python",
   "name": "python",
   "nbconvert_exporter": "python",
   "pygments_lexer": "ipython3",
   "version": "3.10.0"
  }
 },
 "nbformat": 4,
 "nbformat_minor": 5
}
