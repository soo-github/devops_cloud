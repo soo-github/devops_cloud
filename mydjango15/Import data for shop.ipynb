{
 "cells": [
  {
   "cell_type": "code",
   "execution_count": 1,
   "id": "a65597ec",
   "metadata": {
    "scrolled": true
   },
   "outputs": [],
   "source": [
    "import os\n",
    "os.environ[\"DJANGO_SETTINGS_MODULE\"] = \"mydjango15.settings\"\n",
    "os.environ[\"DJANGO_ALLOW_ASYNC_UNSAFE\"] = \"true\"\n",
    "\n",
    "import django\n",
    "django.setup()"
   ]
  },
  {
   "cell_type": "code",
   "execution_count": 2,
   "id": "d3fd5da1",
   "metadata": {},
   "outputs": [
    {
     "data": {
      "text/plain": [
       "[['name', 'description', 'address', 'coordinates', 'telephone'],\n",
       " ['파리바게뜨 대전판암점',\n",
       "  '라인1\\n라인2\\n라인3',\n",
       "  '대전 동구 옥천로 178-1',\n",
       "  '36.3170396,127.4602147',\n",
       "  '010-1234-1234'],\n",
       " ['인동 칼국수',\n",
       "  '인동 칼국수집',\n",
       "  '대전 동구 인동 26-8',\n",
       "  '36.3228528,127.4368007',\n",
       "  '042-282-4543'],\n",
       " ['태평양약국',\n",
       "  '대동역 인근 약국',\n",
       "  '대전 동구 대동 179-1',\n",
       "  '36.3299534,127.4430684',\n",
       "  '042-633-7575'],\n",
       " ['GS25대동점',\n",
       "  '대동역 1번출구 편의점',\n",
       "  '대전 동구 대동 계족로 167',\n",
       "  '36.3287419,127.4430269',\n",
       "  '042-789-1234'],\n",
       " ['최내과의원',\n",
       "  '대동역 인근 내과병원',\n",
       "  '대전 동구 대동 148-59',\n",
       "  '36.3290316,127.4429246',\n",
       "  '042-284-3455'],\n",
       " ['안태규한의원',\n",
       "  '대동역 인근 한의원',\n",
       "  '대전 동구 대동 138-1',\n",
       "  '36.3283181,127.4439533',\n",
       "  '042-286-1075'],\n",
       " ['투썸플레이스',\n",
       "  '대동오거리 투썸플레이스',\n",
       "  '대전 동구 대동 137-3',\n",
       "  '36.3279111,127.444424',\n",
       "  '042-286-7001'],\n",
       " ['정봉자커피 대동점',\n",
       "  '정봉자커피 대동점',\n",
       "  '대전 동구 대동 179-8',\n",
       "  '36.329991,127.4426404',\n",
       "  '042-456-7410'],\n",
       " ['씨앤피',\n",
       "  '커피 전문점',\n",
       "  '대전 동구 대동 160-1',\n",
       "  '36.3293423,127.4416994',\n",
       "  '070-4249-1369']]"
      ]
     },
     "execution_count": 2,
     "metadata": {},
     "output_type": "execute_result"
    }
   ],
   "source": [
    "# pip install openpyxl\n",
    "from openpyxl import load_workbook\n",
    "wb = load_workbook('mydjango15-data.xlsx')\n",
    "sheet = wb.active\n",
    "rows = [\n",
    "    [column.value for column in row]\n",
    "    for row in sheet\n",
    "]\n",
    "rows"
   ]
  },
  {
   "cell_type": "code",
   "execution_count": null,
   "id": "18c107a2",
   "metadata": {},
   "outputs": [],
   "source": []
  },
  {
   "cell_type": "code",
   "execution_count": 3,
   "id": "aa39bc22",
   "metadata": {},
   "outputs": [
    {
     "data": {
      "text/plain": [
       "['name', 'description', 'address', 'coordinates', 'telephone']"
      ]
     },
     "execution_count": 3,
     "metadata": {},
     "output_type": "execute_result"
    }
   ],
   "source": [
    "colum_names = rows[0]\n",
    "colum_names"
   ]
  },
  {
   "cell_type": "code",
   "execution_count": 4,
   "id": "b4992bdb",
   "metadata": {},
   "outputs": [
    {
     "data": {
      "text/plain": [
       "[{'name': '파리바게뜨 대전판암점',\n",
       "  'description': '라인1\\n라인2\\n라인3',\n",
       "  'address': '대전 동구 옥천로 178-1',\n",
       "  'telephone': '010-1234-1234',\n",
       "  'latitude': '36.3170396',\n",
       "  'longitude': '127.4602147'},\n",
       " {'name': '인동 칼국수',\n",
       "  'description': '인동 칼국수집',\n",
       "  'address': '대전 동구 인동 26-8',\n",
       "  'telephone': '042-282-4543',\n",
       "  'latitude': '36.3228528',\n",
       "  'longitude': '127.4368007'},\n",
       " {'name': '태평양약국',\n",
       "  'description': '대동역 인근 약국',\n",
       "  'address': '대전 동구 대동 179-1',\n",
       "  'telephone': '042-633-7575',\n",
       "  'latitude': '36.3299534',\n",
       "  'longitude': '127.4430684'},\n",
       " {'name': 'GS25대동점',\n",
       "  'description': '대동역 1번출구 편의점',\n",
       "  'address': '대전 동구 대동 계족로 167',\n",
       "  'telephone': '042-789-1234',\n",
       "  'latitude': '36.3287419',\n",
       "  'longitude': '127.4430269'},\n",
       " {'name': '최내과의원',\n",
       "  'description': '대동역 인근 내과병원',\n",
       "  'address': '대전 동구 대동 148-59',\n",
       "  'telephone': '042-284-3455',\n",
       "  'latitude': '36.3290316',\n",
       "  'longitude': '127.4429246'},\n",
       " {'name': '안태규한의원',\n",
       "  'description': '대동역 인근 한의원',\n",
       "  'address': '대전 동구 대동 138-1',\n",
       "  'telephone': '042-286-1075',\n",
       "  'latitude': '36.3283181',\n",
       "  'longitude': '127.4439533'},\n",
       " {'name': '투썸플레이스',\n",
       "  'description': '대동오거리 투썸플레이스',\n",
       "  'address': '대전 동구 대동 137-3',\n",
       "  'telephone': '042-286-7001',\n",
       "  'latitude': '36.3279111',\n",
       "  'longitude': '127.444424'},\n",
       " {'name': '정봉자커피 대동점',\n",
       "  'description': '정봉자커피 대동점',\n",
       "  'address': '대전 동구 대동 179-8',\n",
       "  'telephone': '042-456-7410',\n",
       "  'latitude': '36.329991',\n",
       "  'longitude': '127.4426404'},\n",
       " {'name': '씨앤피',\n",
       "  'description': '커피 전문점',\n",
       "  'address': '대전 동구 대동 160-1',\n",
       "  'telephone': '070-4249-1369',\n",
       "  'latitude': '36.3293423',\n",
       "  'longitude': '127.4416994'}]"
      ]
     },
     "execution_count": 4,
     "metadata": {},
     "output_type": "execute_result"
    }
   ],
   "source": [
    "row_list = []\n",
    "\n",
    "for row in rows[1:]:\n",
    "    if row[0] is None:\n",
    "        break\n",
    "    row_dict = dict(zip(colum_names, row))\n",
    "    latitude,longitude = row_dict[\"coordinates\"].split(\",\")\n",
    "    row_dict[\"latitude\"] = latitude\n",
    "    row_dict[\"longitude\"] = longitude\n",
    "    del row_dict[\"coordinates\"]\n",
    "    row_list.append(row_dict)\n",
    "    \n",
    "row_list"
   ]
  },
  {
   "cell_type": "code",
   "execution_count": null,
   "id": "021c500b",
   "metadata": {},
   "outputs": [],
   "source": []
  },
  {
   "cell_type": "code",
   "execution_count": 5,
   "id": "0cbd399b",
   "metadata": {
    "scrolled": true
   },
   "outputs": [],
   "source": [
    "from delicious.models import Shop"
   ]
  },
  {
   "cell_type": "code",
   "execution_count": 6,
   "id": "067d32f5",
   "metadata": {},
   "outputs": [
    {
     "name": "stdout",
     "output_type": "stream",
     "text": [
      "Shop object (1)\n",
      "Shop object (2)\n",
      "Shop object (3)\n",
      "Shop object (4)\n",
      "Shop object (5)\n",
      "Shop object (6)\n",
      "Shop object (7)\n",
      "Shop object (8)\n",
      "Shop object (9)\n"
     ]
    }
   ],
   "source": [
    "for row_dict in row_list:\n",
    "    shop = Shop(**row_dict)\n",
    "    shop.save()\n",
    "    print(shop)"
   ]
  },
  {
   "cell_type": "code",
   "execution_count": null,
   "id": "eda94433",
   "metadata": {},
   "outputs": [],
   "source": []
  },
  {
   "cell_type": "code",
   "execution_count": null,
   "id": "65903604",
   "metadata": {},
   "outputs": [],
   "source": []
  },
  {
   "cell_type": "code",
   "execution_count": null,
   "id": "6287a52d",
   "metadata": {},
   "outputs": [],
   "source": []
  },
  {
   "cell_type": "code",
   "execution_count": null,
   "id": "1fcf2c91",
   "metadata": {},
   "outputs": [],
   "source": []
  }
 ],
 "metadata": {
  "kernelspec": {
   "display_name": "Python 3 (ipykernel)",
   "language": "python",
   "name": "python3"
  },
  "language_info": {
   "codemirror_mode": {
    "name": "ipython",
    "version": 3
   },
   "file_extension": ".py",
   "mimetype": "text/x-python",
   "name": "python",
   "nbconvert_exporter": "python",
   "pygments_lexer": "ipython3",
   "version": "3.10.0"
  }
 },
 "nbformat": 4,
 "nbformat_minor": 5
}
