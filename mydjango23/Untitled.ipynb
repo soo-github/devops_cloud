{
 "cells": [
  {
   "cell_type": "code",
   "execution_count": 1,
   "id": "3a775bd5",
   "metadata": {},
   "outputs": [],
   "source": [
    "import os\n",
    "\n",
    "os.environ[\"DJANGO_SETTINGS_MODULE\"] = \"mydjango23.settings\"\n",
    "os.environ[\"DJANGO_ALLOW_ASYNC_UNSAFE\"] = \"true\"\n",
    "\n",
    "import django\n",
    "django.setup()"
   ]
  },
  {
   "cell_type": "code",
   "execution_count": 2,
   "id": "7fac328e",
   "metadata": {},
   "outputs": [],
   "source": [
    "from blog.models import Post"
   ]
  },
  {
   "cell_type": "code",
   "execution_count": 3,
   "id": "34edb993",
   "metadata": {},
   "outputs": [
    {
     "data": {
      "text/plain": [
       "<dataset object>"
      ]
     },
     "execution_count": 3,
     "metadata": {},
     "output_type": "execute_result"
    }
   ],
   "source": [
    "import tablib\n",
    "\n",
    "dataset = tablib.Dataset()\n",
    "dataset.headers = [\"id\",\"title\",\"created_at\",\"updated_at\"]\n",
    "dataset"
   ]
  },
  {
   "cell_type": "code",
   "execution_count": 4,
   "id": "3887c1e1",
   "metadata": {},
   "outputs": [],
   "source": [
    "\n",
    "for post in Post.objects.all():\n",
    "    dataset.append(\n",
    "    [\n",
    "        post.id,\n",
    "        post.title,\n",
    "        # tzinfo 가 있는 datetime 객체는 tablib에서 변환이 현재 지원되지 않아\n",
    "        # 문자열로 변환을 하겠습니다.\n",
    "        post.created_at.strftime(\"%Y-%m-%d %H:%M:%S\"),\n",
    "        post.updated_at.strftime(\"%Y-%m-%d %H:%M:%S\"),\n",
    "    ])"
   ]
  },
  {
   "cell_type": "code",
   "execution_count": 6,
   "id": "2ec7806b",
   "metadata": {},
   "outputs": [
    {
     "data": {
      "text/plain": [
       "'[{\"id\": 3, \"title\": \"테스트\", \"created_at\": \"2021-12-16 02:04:41\", \"updated_at\": \"2021-12-16 02:04:41\"}, {\"id\": 2, \"title\": \"고양이 1\", \"created_at\": \"2021-12-15 07:11:09\", \"updated_at\": \"2021-12-15 07:11:09\"}]'"
      ]
     },
     "execution_count": 6,
     "metadata": {},
     "output_type": "execute_result"
    }
   ],
   "source": [
    "dataset.export(\"json\")"
   ]
  },
  {
   "cell_type": "code",
   "execution_count": 5,
   "id": "c9d00ba0",
   "metadata": {},
   "outputs": [],
   "source": [
    "xlsx_data: bytes = dataset.export(\"xlsx\")\n",
    "\n",
    "# wb: write (새롭게 생성), binary(bytes 타입을 쓴다)\n",
    "with open(\"포스팅 내역.xlsx\", \"wb\") as f:\n",
    "    f.write(xlsx_data)"
   ]
  },
  {
   "cell_type": "code",
   "execution_count": null,
   "id": "7c3573bb",
   "metadata": {},
   "outputs": [],
   "source": []
  },
  {
   "cell_type": "code",
   "execution_count": null,
   "id": "d10c1634",
   "metadata": {},
   "outputs": [],
   "source": []
  },
  {
   "cell_type": "code",
   "execution_count": null,
   "id": "be30b4e2",
   "metadata": {},
   "outputs": [],
   "source": []
  },
  {
   "cell_type": "code",
   "execution_count": null,
   "id": "c3c9b92a",
   "metadata": {},
   "outputs": [],
   "source": []
  }
 ],
 "metadata": {
  "kernelspec": {
   "display_name": "Python 3 (ipykernel)",
   "language": "python",
   "name": "python3"
  },
  "language_info": {
   "codemirror_mode": {
    "name": "ipython",
    "version": 3
   },
   "file_extension": ".py",
   "mimetype": "text/x-python",
   "name": "python",
   "nbconvert_exporter": "python",
   "pygments_lexer": "ipython3",
   "version": "3.10.0"
  }
 },
 "nbformat": 4,
 "nbformat_minor": 5
}
